{
 "cells": [
  {
   "cell_type": "code",
   "execution_count": 1,
   "metadata": {},
   "outputs": [
    {
     "name": "stdout",
     "output_type": "stream",
     "text": [
      "Financial Analysis\n",
      "----------------------------\n",
      "Total Months: 86\n",
      "Total: $38382578.0\n",
      "Average Change: $-2315.12\n",
      "Greatest Increase in Profits: Feb-2012 ($1926159.0)\n",
      "Greatest Decrease in Profits: Sep-2013 ($-2196167.0)\n"
     ]
    }
   ],
   "source": [
    "import main as m\n",
    "inputFilePath='Resources/budget_data.csv'\n",
    "outPutFilePath='Analysis_Output/summary.txt'\n",
    "analyzer=m.FinancialAnalyzer(inputFilePath,outPutFilePath)\n",
    "analyzer.ReadCsv()\n",
    "totalMonths=analyzer.CalculateTotalMonths()\n",
    "totalAmount=analyzer.CalculateNetTotalPF()\n",
    "averageChange=analyzer.CalculateAveragePF()\n",
    "greatestIncrease=analyzer.GetMonthWithMaximumResult()\n",
    "greatestDecrease=analyzer.GetMonthWithMinimumResult()\n",
    "print(\"Financial Analysis\")\n",
    "print(\"----------------------------\")\n",
    "print(f\"Total Months: {totalMonths}\")\n",
    "print(f\"Total: ${totalAmount}\")\n",
    "print(f\"Average Change: ${averageChange}\")\n",
    "print(f\"Greatest Increase in Profits: {greatestIncrease['Month']} (${(str(greatestIncrease['Value']))})\")\n",
    "print(f\"Greatest Decrease in Profits: {greatestDecrease['Month']} (${(str(greatestDecrease['Value']))})\")\n",
    "results={\n",
    "    'Total_Months':totalMonths,\n",
    "    'Total_Amount':totalAmount,\n",
    "    'Average_Change':averageChange,\n",
    "    'Max_Month':greatestIncrease['Month'],\n",
    "    'Max_Value':greatestIncrease['Value'],\n",
    "    'Min_Month':greatestDecrease['Month'],\n",
    "    'Min_Value':greatestDecrease['Value']\n",
    "}\n",
    "analyzer.WriteResultsToTextFile(results)\n"
   ]
  },
  {
   "cell_type": "code",
   "execution_count": null,
   "metadata": {},
   "outputs": [],
   "source": []
  }
 ],
 "metadata": {
  "kernelspec": {
   "display_name": "Python 3",
   "language": "python",
   "name": "python3"
  },
  "language_info": {
   "codemirror_mode": {
    "name": "ipython",
    "version": 3
   },
   "file_extension": ".py",
   "mimetype": "text/x-python",
   "name": "python",
   "nbconvert_exporter": "python",
   "pygments_lexer": "ipython3",
   "version": "3.7.3"
  }
 },
 "nbformat": 4,
 "nbformat_minor": 4
}
